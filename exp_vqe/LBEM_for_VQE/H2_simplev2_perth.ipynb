{
 "cells": [
  {
   "cell_type": "code",
   "execution_count": 1,
   "metadata": {},
   "outputs": [],
   "source": [
    "from util import *\n",
    "from expval_calc_q_optim import *\n",
    "from generate_training_set import *\n",
    "\n",
    "from qiskit.utils import QuantumInstance \n",
    "from qiskit import Aer, IBMQ\n",
    "\n",
    "import matplotlib.pyplot as plt"
   ]
  },
  {
   "cell_type": "code",
   "execution_count": 2,
   "metadata": {},
   "outputs": [
    {
     "name": "stderr",
     "output_type": "stream",
     "text": [
      "configrc.store_credentials:WARNING:2022-02-25 22:05:19,000: Credentials already present. Set overwrite=True to overwrite.\n"
     ]
    },
    {
     "name": "stdout",
     "output_type": "stream",
     "text": [
      "[<AccountProvider for IBMQ(hub='ibm-q', group='open', project='main')>, <AccountProvider for IBMQ(hub='ibm-q-community', group='qhack-hackathon', project='7-qubit')>, <AccountProvider for IBMQ(hub='ibm-q-kaist', group='internal', project='default')>, <AccountProvider for IBMQ(hub='ibm-q-kaist', group='internal', project='reservations')>, <AccountProvider for IBMQ(hub='ibm-q-kaist', group='internal', project='test')>]\n"
     ]
    }
   ],
   "source": [
    "# Create appropriate instances\n",
    "IBMQ.save_account()\n",
    "IBMQ.load_account()\n",
    "print(IBMQ.providers())\n",
    "hardware_provider = IBMQ.get_provider(hub='ibm-q-community', group='qhack-hackathon')\n",
    "hardware_backend = hardware_provider.get_backend('ibm_perth')\n",
    "em_instance = QuantumInstance(backend = hardware_backend, shots = 4096)\n",
    "sv_backend = Aer.get_backend('aer_simulator_statevector')\n",
    "ef_instance = QuantumInstance(backend = sv_backend)"
   ]
  },
  {
   "cell_type": "code",
   "execution_count": 4,
   "metadata": {},
   "outputs": [
    {
     "name": "stdout",
     "output_type": "stream",
     "text": [
      "Ansatz & qubit hamiltonian created\n",
      "Training circuits generated\n",
      "All expectation values calculated\n",
      "q optimized\n"
     ]
    }
   ],
   "source": [
    "# LBEM\n",
    "seed = 100\n",
    "\n",
    "group_pauli_op, [ansatz,num_par_gates] = main('H2', 0.774, 2, 1, 'simple')\n",
    "group_pauli_op = group_pauli_op['grouped_paulis']\n",
    "print('Ansatz & qubit hamiltonian created')\n",
    "\n",
    "trunc_T, trunc_P = truncate_training_set(num_par_gates, 0, 0, s = seed, exhaustive= True)\n",
    "circuit_list = get_circuits_dict(ansatz, trunc_T, trunc_P, num_par_gates)\n",
    "print('Training circuits generated')\n",
    "\n",
    "com_ef, com_em = expval_calc(group_pauli_op, circuit_list, em_instance, ef_instance)\n",
    "print('All expectation values calculated')\n",
    "\n",
    "q = q_optimize(group_pauli_op, circuit_list, com_em, com_ef)\n",
    "print('q optimized')"
   ]
  },
  {
   "cell_type": "code",
   "execution_count": 6,
   "metadata": {},
   "outputs": [
    {
     "name": "stdout",
     "output_type": "stream",
     "text": [
      "Angle: 0.0 | Error free value: (-0.3745864358278883+0j) | Error mitigated value: (-0.3756220520204904+0j) | Noisy value: (-0.3431172123040221+0j)\n",
      "Angle: 0.6283185307179586 | Error free value: (-0.3030467924471023+0j) | Error mitigated value: (-0.2970655476168054+0j) | Noisy value: (-0.2964360382587756+0j)\n",
      "Angle: 1.2566370614359172 | Error free value: (-0.1157535745331582+0j) | Error mitigated value: (-0.11165704325413299+0j) | Noisy value: (-0.14512648581262194+0j)\n",
      "Angle: 1.8849555921538759 | Error free value: (0.11575357453315822+0j) | Error mitigated value: (0.11158616994602123+0j) | Noisy value: (0.03595715207944523+0j)\n",
      "Angle: 2.5132741228718345 | Error free value: (0.3030467924471024+0j) | Error mitigated value: (0.3035183426041708+0j) | Noisy value: (0.2055192163935143+0j)\n",
      "Angle: 3.141592653589793 | Error free value: (0.3745864358278884+0j) | Error mitigated value: (0.3792966100510968+0j) | Noisy value: (0.2977534751026653+0j)\n",
      "Angle: 3.7699111843077517 | Error free value: (0.3030467924471024+0j) | Error mitigated value: (0.30338912638709425+0j) | Noisy value: (0.24775257795684294+0j)\n",
      "Angle: 4.39822971502571 | Error free value: (0.11575357453315835+0j) | Error mitigated value: (0.09746362486818001+0j) | Noisy value: (0.09039820311106+0j)\n",
      "Angle: 5.026548245743669 | Error free value: (-0.11575357453315802+0j) | Error mitigated value: (-0.11647874049191576+0j) | Noisy value: (-0.08764068791997183+0j)\n",
      "Angle: 5.654866776461628 | Error free value: (-0.3030467924471023+0j) | Error mitigated value: (-0.2897847925890325+0j) | Noisy value: (-0.2598302521797139+0j)\n"
     ]
    }
   ],
   "source": [
    "# Test using some random angles\n",
    "angles = (2*np.pi/10) * np.array(list(range(10)))\n",
    "efs = []\n",
    "ems = []\n",
    "ns = []\n",
    "\n",
    "for angle in angles:\n",
    "    ef_expval, em_expval, n_expval = test(ansatz, [angle], group_pauli_op, q, ef_instance, em_instance)\n",
    "    print('Angle: {} | Error free value: {} | Error mitigated value: {} | Noisy value: {}'.format(angle, ef_expval, em_expval, n_expval))\n",
    "    \n",
    "    efs.append(ef_expval)\n",
    "    ems.append(em_expval)\n",
    "    ns.append(n_expval)"
   ]
  },
  {
   "cell_type": "code",
   "execution_count": 11,
   "metadata": {},
   "outputs": [
    {
     "data": {
      "text/plain": [
       "<matplotlib.legend.Legend at 0x7fd9da83ebb0>"
      ]
     },
     "execution_count": 11,
     "metadata": {},
     "output_type": "execute_result"
    },
    {
     "data": {
      "image/png": "[encoded data removed]",
      "text/plain": [
       "<Figure size 432x288 with 1 Axes>"
      ]
     },
     "metadata": {
      "needs_background": "light"
     },
     "output_type": "display_data"
    }
   ],
   "source": [
    "plt.scatter(angles, efs, c = 'tab:blue', label = 'Error Free')\n",
    "plt.scatter(angles, ems, c = 'tab:pink', label = 'Error Mitigated')\n",
    "plt.scatter(angles, ns, c = 'tab:green', label = 'Noisy')\n",
    "plt.xlabel('Angle(phi)')\n",
    "plt.ylabel('Energy')\n",
    "plt.title('H2 Simple Circuit ibm_perth')\n",
    "plt.legend()"
   ]
  },
  {
   "cell_type": "code",
   "execution_count": 12,
   "metadata": {},
   "outputs": [
    {
     "data": {
      "text/plain": [
       "<matplotlib.legend.Legend at 0x7fd9da7ed940>"
      ]
     },
     "execution_count": 12,
     "metadata": {},
     "output_type": "execute_result"
    },
    {
     "data": {
      "image/png": "[encoded data removed]",
      "text/plain": [
       "<Figure size 432x288 with 1 Axes>"
      ]
     },
     "metadata": {
      "needs_background": "light"
     },
     "output_type": "display_data"
    }
   ],
   "source": [
    "plt.scatter(angles, np.abs(np.array(ems) - np.array(efs)), c = 'tab:blue', label = 'EM - EF')\n",
    "plt.scatter(angles, np.abs(np.array(ns) - np.array(efs)), c = 'tab:pink', label = 'N - EF')\n",
    "plt.xlabel('Angle(phi)')\n",
    "plt.ylabel('Energy Difference')\n",
    "plt.title('H2 Simple Circuit ibm_perth')\n",
    "plt.legend()"
   ]
  },
  {
   "cell_type": "code",
   "execution_count": 5,
   "metadata": {},
   "outputs": [
    {
     "data": {
      "text/html": [
       "<pre style=\"word-wrap: normal;white-space: pre;background: #fff0;line-height: 1.1;font-family: &quot;Courier New&quot;,Courier,monospace\">     ┌───┐     ┌─────────┐┌───┐\n",
       "q_0: ┤ H ├──■──┤ Rx(phi) ├┤ X ├\n",
       "     └───┘┌─┴─┐└─────────┘└─┬─┘\n",
       "q_1: ─────┤ X ├─────────────■──\n",
       "          └───┘                </pre>"
      ],
      "text/plain": [
       "     ┌───┐     ┌─────────┐┌───┐\n",
       "q_0: ┤ H ├──■──┤ Rx(phi) ├┤ X ├\n",
       "     └───┘┌─┴─┐└─────────┘└─┬─┘\n",
       "q_1: ─────┤ X ├─────────────■──\n",
       "          └───┘                "
      ]
     },
     "execution_count": 5,
     "metadata": {},
     "output_type": "execute_result"
    }
   ],
   "source": [
    "ansatz.draw()"
   ]
  },
  {
   "cell_type": "code",
   "execution_count": 13,
   "metadata": {},
   "outputs": [
    {
     "data": {
      "text/plain": [
       "(array([ 0.30702704, -0.2801892 , -0.30185831,  0.27479532,  0.00193872]),\n",
       " ['I', 'X', 'Y', 'Z', 'q0'])"
      ]
     },
     "execution_count": 13,
     "metadata": {},
     "output_type": "execute_result"
    }
   ],
   "source": [
    "q"
   ]
  },
  {
   "cell_type": "code",
   "execution_count": null,
   "metadata": {},
   "outputs": [],
   "source": []
  }
 ],
 "metadata": {
  "interpreter": {
   "hash": "766e0d0516c4f25c2b1f01a59606ef04191a3cb324d6d185230911e47ef2666f"
  },
  "kernelspec": {
   "display_name": "Python 3 (ipykernel)",
   "language": "python",
   "name": "python3"
  },
  "language_info": {
   "codemirror_mode": {
    "name": "ipython",
    "version": 3
   },
   "file_extension": ".py",
   "mimetype": "text/x-python",
   "name": "python",
   "nbconvert_exporter": "python",
   "pygments_lexer": "ipython3",
   "version": "3.8.3"
  }
 },
 "nbformat": 4,
 "nbformat_minor": 2
}
