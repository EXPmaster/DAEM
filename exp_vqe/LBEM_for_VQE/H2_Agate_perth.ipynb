{
 "cells": [
  {
   "cell_type": "code",
   "execution_count": 1,
   "metadata": {},
   "outputs": [],
   "source": [
    "from util import *\n",
    "from expval_calc_q_optim import *\n",
    "from generate_training_set import *\n",
    "\n",
    "from itertools import product\n",
    "from qiskit.utils import QuantumInstance \n",
    "from qiskit import Aer, IBMQ\n",
    "from random import sample, seed\n",
    "\n",
    "import matplotlib.pyplot as plt"
   ]
  },
  {
   "cell_type": "code",
   "execution_count": 2,
   "metadata": {},
   "outputs": [
    {
     "name": "stdout",
     "output_type": "stream",
     "text": [
      "[<AccountProvider for IBMQ(hub='ibm-q', group='open', project='main')>, <AccountProvider for IBMQ(hub='ibm-q-community', group='qhack-hackathon', project='7-qubit')>, <AccountProvider for IBMQ(hub='ibm-q-kaist', group='internal', project='default')>, <AccountProvider for IBMQ(hub='ibm-q-kaist', group='internal', project='reservations')>, <AccountProvider for IBMQ(hub='ibm-q-kaist', group='internal', project='test')>]\n"
     ]
    }
   ],
   "source": [
    "# Create appropriate instances\n",
    "IBMQ.save_account('2fc2fecb5ddfe847ded9ce1ba4db314b66932f993586311c514b5768a6792b3d2536e0df9885b25663b4143b99198cc88fcbb53c644b7e561ca469b770aa08dc', overwrite = True)\n",
    "IBMQ.load_account()\n",
    "print(IBMQ.providers())\n",
    "hardware_provider = IBMQ.get_provider(hub='ibm-q-community', group='qhack-hackathon')\n",
    "hardware_backend = hardware_provider.get_backend('ibm_perth')\n",
    "em_instance = QuantumInstance(backend = hardware_backend, shots = 4096)\n",
    "sv_backend = Aer.get_backend('aer_simulator_statevector')\n",
    "ef_instance = QuantumInstance(backend = sv_backend)"
   ]
  },
  {
   "cell_type": "code",
   "execution_count": 3,
   "metadata": {},
   "outputs": [],
   "source": [
    "# Truncate T, Exhaustive P\n",
    "paulis = ['I', 'X', 'Y', 'Z']\n",
    "cliffords = ['I','X','Y','Z','S','XS','YS','ZS','H','XH','YH','ZH','SH','XSH','YSH','ZSH','HS','XHS','YHS','ZHS','SHS','XSHS','YSHS','ZSHS']\n",
    "group_pauli_op, [ansatz,num_par_gates] = main('H2', 0.774, 2, 1, 'num_particle_preserving')\n",
    "trunc_P = list(product(paulis, repeat = num_par_gates))\n",
    "trunc_P = [''.join(list(i)) for i in trunc_P]\n",
    "\n",
    "trunc_T = []\n",
    "while len(trunc_T) < 50:\n",
    "    temp = []\n",
    "    for j in range(num_par_gates):\n",
    "        temp.append(sample(cliffords, 1)[0])\n",
    "    if not temp in trunc_T:\n",
    "        trunc_T.append(temp)"
   ]
  },
  {
   "cell_type": "code",
   "execution_count": 4,
   "metadata": {},
   "outputs": [
    {
     "name": "stdout",
     "output_type": "stream",
     "text": [
      "Ansatz & qubit hamiltonian created\n",
      "Training circuits generated\n",
      "All expectation values calculated\n",
      "q optimized\n"
     ]
    }
   ],
   "source": [
    "# LBEM\n",
    "seed = 100\n",
    "\n",
    "group_pauli_op, [ansatz,num_par_gates] = main('H2', 0.774, 2, 1, 'num_particle_preserving')\n",
    "group_pauli_op = group_pauli_op['grouped_paulis']\n",
    "print('Ansatz & qubit hamiltonian created')\n",
    "\n",
    "#trunc_T, trunc_P = truncate_training_set(num_par_gates, 0, 0, s = seed, exhaustive= False)\n",
    "circuit_list = get_circuits_dict(ansatz, trunc_T, trunc_P, num_par_gates)\n",
    "print('Training circuits generated')\n",
    "\n",
    "com_ef, com_em = expval_calc(group_pauli_op, circuit_list, em_instance, ef_instance)\n",
    "print('All expectation values calculated')\n",
    "\n",
    "q = q_optimize(group_pauli_op, circuit_list, com_em, com_ef)\n",
    "print('q optimized')"
   ]
  },
  {
   "cell_type": "code",
   "execution_count": 5,
   "metadata": {},
   "outputs": [
    {
     "name": "stdout",
     "output_type": "stream",
     "text": [
      "Angle: 0.0 | Error free value: (0.7601782935585369+0j) | Error mitigated value: (0.6838486404700281+0j) | Noisy value: (0.613394429220931+0j)\n",
      "Angle: 0.6283185307179586 | Error free value: (0.06834387491332178+0j) | Error mitigated value: (-0.023607413587626115+0j) | Noisy value: (-0.011897052469903968+0j)\n",
      "Angle: 1.2566370614359172 | Error free value: (-0.7027303369301509+0j) | Error mitigated value: (-0.748088112948623+0j) | Noisy value: (-0.6394385065583754+0j)\n",
      "Angle: 1.8849555921538759 | Error free value: (-0.48744598905273884+0j) | Error mitigated value: (-0.4723977927010934+0j) | Noisy value: (-0.38664175452363325+0j)\n",
      "Angle: 2.5132741228718345 | Error free value: (0.416681267024831+0j) | Error mitigated value: (0.4384911145519115+0j) | Noisy value: (0.4001186105058743+0j)\n",
      "Angle: 3.141592653589793 | Error free value: (0.7601782935585367+0j) | Error mitigated value: (0.6964164535542154+0j) | Noisy value: (0.6040493726506567+0j)\n",
      "Angle: 3.7699111843077517 | Error free value: (0.06834387491332194+0j) | Error mitigated value: (-0.05527280211893845+0j) | Noisy value: (-0.02938359211260494+0j)\n",
      "Angle: 4.39822971502571 | Error free value: (-0.7027303369301504+0j) | Error mitigated value: (-0.7730542425029128+0j) | Noisy value: (-0.6561733379232455+0j)\n",
      "Angle: 5.026548245743669 | Error free value: (-0.4874459890527387+0j) | Error mitigated value: (-0.49376649632267466+0j) | Noisy value: (-0.3759707406818647+0j)\n",
      "Angle: 5.654866776461628 | Error free value: (0.416681267024831+0j) | Error mitigated value: (0.41410179276944314+0j) | Noisy value: (0.3959611576833515+0j)\n"
     ]
    }
   ],
   "source": [
    "# Test using some random angles\n",
    "angles = (2*np.pi/10) * np.array(list(range(10)))\n",
    "efs = []\n",
    "ems = []\n",
    "ns = []\n",
    "\n",
    "for angle in angles:\n",
    "    ef_expval, em_expval, n_expval = test(ansatz, [angle], group_pauli_op, q, ef_instance, em_instance)\n",
    "    print('Angle: {} | Error free value: {} | Error mitigated value: {} | Noisy value: {}'.format(angle, ef_expval, em_expval, n_expval))\n",
    "    \n",
    "    efs.append(ef_expval)\n",
    "    ems.append(em_expval)\n",
    "    ns.append(n_expval)"
   ]
  },
  {
   "cell_type": "code",
   "execution_count": 6,
   "metadata": {},
   "outputs": [
    {
     "data": {
      "text/plain": [
       "<matplotlib.legend.Legend at 0x7fae05ba43d0>"
      ]
     },
     "execution_count": 6,
     "metadata": {},
     "output_type": "execute_result"
    },
    {
     "data": {
      "image/png": "[encoded data removed]",
      "text/plain": [
       "<Figure size 432x288 with 1 Axes>"
      ]
     },
     "metadata": {
      "needs_background": "light"
     },
     "output_type": "display_data"
    }
   ],
   "source": [
    "plt.scatter(angles, efs, c = 'tab:blue', label = 'Error Free')\n",
    "plt.scatter(angles, ems, c = 'tab:pink', label = 'Error Mitigated')\n",
    "plt.scatter(angles, ns, c = 'tab:green', label = 'Noisy')\n",
    "plt.xlabel('Angle(phi)')\n",
    "plt.ylabel('Energy')\n",
    "plt.title('H2 A Gate Circuit ibm_perth')\n",
    "plt.legend()"
   ]
  },
  {
   "cell_type": "code",
   "execution_count": 7,
   "metadata": {},
   "outputs": [
    {
     "data": {
      "text/plain": [
       "<matplotlib.legend.Legend at 0x7fae0a93fca0>"
      ]
     },
     "execution_count": 7,
     "metadata": {},
     "output_type": "execute_result"
    },
    {
     "data": {
      "image/png": "[encoded data removed]",
      "text/plain": [
       "<Figure size 432x288 with 1 Axes>"
      ]
     },
     "metadata": {
      "needs_background": "light"
     },
     "output_type": "display_data"
    }
   ],
   "source": [
    "plt.scatter(angles, np.abs(np.array(ems) - np.array(efs)), c = 'tab:blue', label = 'EM - EF')\n",
    "plt.scatter(angles, np.abs(np.array(ns) - np.array(efs)), c = 'tab:pink', label = 'N - EF')\n",
    "plt.xlabel('Angle(phi)')\n",
    "plt.ylabel('Energy Difference')\n",
    "plt.title('H2 A Gate Circuit ibm_perth')\n",
    "plt.legend()"
   ]
  },
  {
   "cell_type": "code",
   "execution_count": 8,
   "metadata": {},
   "outputs": [
    {
     "data": {
      "text/html": [
       "<pre style=\"word-wrap: normal;white-space: pre;background: #fff0;line-height: 1.1;font-family: &quot;Courier New&quot;,Courier,monospace\">     ┌───┐┌───┐                                                          »\n",
       "q_0: ┤ X ├┤ X ├─────────────────────────────────■────────────────────────»\n",
       "     └───┘└─┬─┘┌────────────────────┐┌───────┐┌─┴─┐┌────────────────────┐»\n",
       "q_1: ───────■──┤ Ry(theta[0] + π/2) ├┤ Rz(π) ├┤ X ├┤ Ry(theta[0] + π/2) ├»\n",
       "               └────────────────────┘└───────┘└───┘└────────────────────┘»\n",
       "«              ┌───┐\n",
       "«q_0: ─────────┤ X ├\n",
       "«     ┌───────┐└─┬─┘\n",
       "«q_1: ┤ Rz(π) ├──■──\n",
       "«     └───────┘     </pre>"
      ],
      "text/plain": [
       "     ┌───┐┌───┐                                                          »\n",
       "q_0: ┤ X ├┤ X ├─────────────────────────────────■────────────────────────»\n",
       "     └───┘└─┬─┘┌────────────────────┐┌───────┐┌─┴─┐┌────────────────────┐»\n",
       "q_1: ───────■──┤ Ry(theta[0] + π/2) ├┤ Rz(π) ├┤ X ├┤ Ry(theta[0] + π/2) ├»\n",
       "               └────────────────────┘└───────┘└───┘└────────────────────┘»\n",
       "«              ┌───┐\n",
       "«q_0: ─────────┤ X ├\n",
       "«     ┌───────┐└─┬─┘\n",
       "«q_1: ┤ Rz(π) ├──■──\n",
       "«     └───────┘     "
      ]
     },
     "execution_count": 8,
     "metadata": {},
     "output_type": "execute_result"
    }
   ],
   "source": [
    "ansatz.draw()"
   ]
  },
  {
   "cell_type": "code",
   "execution_count": 9,
   "metadata": {},
   "outputs": [
    {
     "data": {
      "text/plain": [
       "(array([ 1.00143303, -0.0839197 , -0.04596048,  0.72609366, -0.53852554,\n",
       "         0.05230094,  0.03494002, -0.15298328,  0.11513422, -0.3891762 ,\n",
       "        -0.21659121,  0.47773974,  0.04420127,  0.06780042,  0.191609  ,\n",
       "        -0.06323818, -0.01372597]),\n",
       " ['II',\n",
       "  'IX',\n",
       "  'IY',\n",
       "  'IZ',\n",
       "  'XI',\n",
       "  'XX',\n",
       "  'XY',\n",
       "  'XZ',\n",
       "  'YI',\n",
       "  'YX',\n",
       "  'YY',\n",
       "  'YZ',\n",
       "  'ZI',\n",
       "  'ZX',\n",
       "  'ZY',\n",
       "  'ZZ',\n",
       "  'q0'])"
      ]
     },
     "execution_count": 9,
     "metadata": {},
     "output_type": "execute_result"
    }
   ],
   "source": [
    "q"
   ]
  },
  {
   "cell_type": "code",
   "execution_count": null,
   "metadata": {},
   "outputs": [],
   "source": []
  }
 ],
 "metadata": {
  "interpreter": {
   "hash": "766e0d0516c4f25c2b1f01a59606ef04191a3cb324d6d185230911e47ef2666f"
  },
  "kernelspec": {
   "display_name": "Python 3",
   "language": "python",
   "name": "python3"
  },
  "language_info": {
   "codemirror_mode": {
    "name": "ipython",
    "version": 3
   },
   "file_extension": ".py",
   "mimetype": "text/x-python",
   "name": "python",
   "nbconvert_exporter": "python",
   "pygments_lexer": "ipython3",
   "version": "3.8.3"
  }
 },
 "nbformat": 4,
 "nbformat_minor": 4
}
