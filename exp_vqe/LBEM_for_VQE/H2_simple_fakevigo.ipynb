{
 "cells": [
  {
   "cell_type": "code",
   "execution_count": 1,
   "metadata": {},
   "outputs": [],
   "source": [
    "from util import *\n",
    "from expval_calc_q_optim import *\n",
    "from generate_training_set import *\n",
    "\n",
    "from qiskit.utils import QuantumInstance \n",
    "from qiskit.test.mock import FakeVigo\n",
    "from qiskit import Aer\n",
    "\n",
    "import matplotlib.pyplot as plt"
   ]
  },
  {
   "cell_type": "code",
   "execution_count": 2,
   "metadata": {},
   "outputs": [],
   "source": [
    "# Create appropriate instances\n",
    "vigo_backend = FakeVigo()\n",
    "em_instance = QuantumInstance(backend = vigo_backend, shots = 10000)\n",
    "sv_backend = Aer.get_backend('aer_simulator_statevector')\n",
    "ef_instance = QuantumInstance(backend = sv_backend)"
   ]
  },
  {
   "cell_type": "code",
   "execution_count": 5,
   "metadata": {},
   "outputs": [
    {
     "name": "stdout",
     "output_type": "stream",
     "text": [
      "Ansatz & qubit hamiltonian created\n",
      "Training circuits generated\n",
      "All expectation values calculated\n",
      "q optimized\n"
     ]
    }
   ],
   "source": [
    "# LBEM\n",
    "seed = 100\n",
    "\n",
    "group_pauli_op, [ansatz,num_par_gates] = main('H2', 0.774, 2, 1, 'simple')\n",
    "group_pauli_op = group_pauli_op['grouped_paulis']\n",
    "print('Ansatz & qubit hamiltonian created')\n",
    "\n",
    "trunc_T, trunc_P = truncate_training_set(num_par_gates, 0, 0, s = seed, exhaustive= True)\n",
    "circuit_list = get_circuits_dict(ansatz, trunc_T, trunc_P, num_par_gates)\n",
    "print('Training circuits generated')\n",
    "\n",
    "com_ef, com_em = expval_calc(group_pauli_op, circuit_list, em_instance, ef_instance)\n",
    "print('All expectation values calculated')\n",
    "\n",
    "q = q_optimize(group_pauli_op, circuit_list, com_em, com_ef)\n",
    "print('q optimized')"
   ]
  },
  {
   "cell_type": "code",
   "execution_count": 6,
   "metadata": {},
   "outputs": [
    {
     "name": "stdout",
     "output_type": "stream",
     "text": [
      "Angle: 0.0 | Error free value: (-0.3745864358278883+0j) | Error mitigated value: (-0.36995733268403624+0j) | Noisy value: (-0.29887136050099505+0j)\n",
      "Angle: 0.3141592653589793 | Error free value: (-0.3562528707098897+0j) | Error mitigated value: (-0.353596107606535+0j) | Noisy value: (-0.2800717596590244+0j)\n",
      "Angle: 0.6283185307179586 | Error free value: (-0.3030467924471023+0j) | Error mitigated value: (-0.29757763218486377+0j) | Noisy value: (-0.23392274973842378+0j)\n",
      "Angle: 0.9424777960769379 | Error free value: (-0.2201763826884337+0j) | Error mitigated value: (-0.21519853995534624+0j) | Noisy value: (-0.17860318828531754+0j)\n",
      "Angle: 1.2566370614359172 | Error free value: (-0.1157535745331582+0j) | Error mitigated value: (-0.11154023441678933+0j) | Noisy value: (-0.08043874929261033+0j)\n",
      "Angle: 1.5707963267948966 | Error free value: (-4.066342918994943e-17+0j) | Error mitigated value: (-0.002078339149295223+0j) | Noisy value: (0.013674888192324628+0j)\n",
      "Angle: 1.8849555921538759 | Error free value: (0.11575357453315822+0j) | Error mitigated value: (0.11344487774652251+0j) | Noisy value: (0.1198194699413765+0j)\n",
      "Angle: 2.199114857512855 | Error free value: (0.22017638268843356+0j) | Error mitigated value: (0.21952572334837153+0j) | Noisy value: (0.19888661825984855+0j)\n",
      "Angle: 2.5132741228718345 | Error free value: (0.3030467924471024+0j) | Error mitigated value: (0.3018059608264924+0j) | Noisy value: (0.27233688944250206+0j)\n",
      "Angle: 2.827433388230814 | Error free value: (0.35625287070988976+0j) | Error mitigated value: (0.3530168939189384+0j) | Noisy value: (0.3058217610761174+0j)\n",
      "Angle: 3.141592653589793 | Error free value: (0.3745864358278884+0j) | Error mitigated value: (0.3735451232003727+0j) | Noisy value: (0.3331407553295498+0j)\n",
      "Angle: 3.4557519189487724 | Error free value: (0.3562528707098898+0j) | Error mitigated value: (0.3564838910420308+0j) | Noisy value: (0.30826163048913+0j)\n",
      "Angle: 3.7699111843077517 | Error free value: (0.3030467924471024+0j) | Error mitigated value: (0.29832375672844014+0j) | Noisy value: (0.2691782045033504+0j)\n",
      "Angle: 4.084070449666731 | Error free value: (0.22017638268843376+0j) | Error mitigated value: (0.22774512329472837+0j) | Noisy value: (0.2011642971440592+0j)\n",
      "Angle: 4.39822971502571 | Error free value: (0.11575357453315835+0j) | Error mitigated value: (0.11590383242388962+0j) | Noisy value: (0.11338207793866349+0j)\n",
      "Angle: 4.71238898038469 | Error free value: (2.0701322349730754e-16+0j) | Error mitigated value: (-0.004073801495107751+0j) | Noisy value: (0.008145973995341779+0j)\n",
      "Angle: 5.026548245743669 | Error free value: (-0.11575357453315802+0j) | Error mitigated value: (-0.11749761584169223+0j) | Noisy value: (-0.08514121067350534+0j)\n",
      "Angle: 5.340707511102648 | Error free value: (-0.22017638268843356+0j) | Error mitigated value: (-0.21446030835399305+0j) | Noisy value: (-0.17520051203082118+0j)\n",
      "Angle: 5.654866776461628 | Error free value: (-0.3030467924471023+0j) | Error mitigated value: (-0.2987410094886366+0j) | Noisy value: (-0.2365308621326603+0j)\n",
      "Angle: 5.969026041820607 | Error free value: (-0.3562528707098895+0j) | Error mitigated value: (-0.35241643106053877+0j) | Noisy value: (-0.2887813232694202+0j)\n"
     ]
    }
   ],
   "source": [
    "# Test using some random angles\n",
    "angles = (2*np.pi/20) * np.array(list(range(20)))\n",
    "efs = []\n",
    "ems = []\n",
    "ns = []\n",
    "\n",
    "for angle in angles:\n",
    "    ef_expval, em_expval, n_expval = test(ansatz, [angle], group_pauli_op, q, ef_instance, em_instance)\n",
    "    print('Angle: {} | Error free value: {} | Error mitigated value: {} | Noisy value: {}'.format(angle, ef_expval, em_expval, n_expval))\n",
    "    \n",
    "    efs.append(ef_expval)\n",
    "    ems.append(em_expval)\n",
    "    ns.append(n_expval)"
   ]
  },
  {
   "cell_type": "code",
   "execution_count": 16,
   "metadata": {},
   "outputs": [
    {
     "data": {
      "text/plain": [
       "<matplotlib.legend.Legend at 0x7fb15c0db610>"
      ]
     },
     "execution_count": 16,
     "metadata": {},
     "output_type": "execute_result"
    },
    {
     "data": {
      "image/png": "[encoded data removed]",
      "text/plain": [
       "<Figure size 432x288 with 1 Axes>"
      ]
     },
     "metadata": {
      "needs_background": "light"
     },
     "output_type": "display_data"
    }
   ],
   "source": [
    "plt.scatter(angles, efs, c = 'tab:blue', label = 'Error Free')\n",
    "plt.scatter(angles, ems, c = 'tab:pink', label = 'Error Mitigated')\n",
    "plt.scatter(angles, ns, c = 'tab:green', label = 'Noisy')\n",
    "plt.xlabel('phi')\n",
    "plt.ylabel('Energy')\n",
    "plt.title('H2 Simple Circuit FakeVigo Backend')\n",
    "plt.legend()"
   ]
  },
  {
   "cell_type": "code",
   "execution_count": 15,
   "metadata": {},
   "outputs": [
    {
     "data": {
      "text/plain": [
       "<matplotlib.legend.Legend at 0x7fb0d45335e0>"
      ]
     },
     "execution_count": 15,
     "metadata": {},
     "output_type": "execute_result"
    },
    {
     "data": {
      "image/png": "[encoded data removed]",
      "text/plain": [
       "<Figure size 432x288 with 1 Axes>"
      ]
     },
     "metadata": {
      "needs_background": "light"
     },
     "output_type": "display_data"
    }
   ],
   "source": [
    "plt.scatter(angles, np.abs(np.array(ems) - np.array(efs)), c = 'tab:blue', label = 'EM - EF')\n",
    "plt.scatter(angles, np.abs(np.array(ns) - np.array(efs)), c = 'tab:pink', label = 'N - EF')\n",
    "plt.xlabel('phi')\n",
    "plt.ylabel('Energy Difference')\n",
    "plt.title('H2 Simple Circuit FakeVigo Backend')\n",
    "plt.legend()"
   ]
  },
  {
   "cell_type": "code",
   "execution_count": 9,
   "metadata": {},
   "outputs": [
    {
     "data": {
      "text/plain": [
       "(array([ 0.26901665, -0.21136498, -0.38682924,  0.31623152,  0.00115913]),\n",
       " ['I', 'X', 'Y', 'Z', 'q0'])"
      ]
     },
     "execution_count": 9,
     "metadata": {},
     "output_type": "execute_result"
    }
   ],
   "source": [
    "q"
   ]
  },
  {
   "cell_type": "code",
   "execution_count": 10,
   "metadata": {},
   "outputs": [
    {
     "data": {
      "text/html": [
       "<pre style=\"word-wrap: normal;white-space: pre;background: #fff0;line-height: 1.1;font-family: &quot;Courier New&quot;,Courier,monospace\">     ┌───┐     ┌─────────┐┌───┐\n",
       "q_0: ┤ H ├──■──┤ Rx(phi) ├┤ X ├\n",
       "     └───┘┌─┴─┐└─────────┘└─┬─┘\n",
       "q_1: ─────┤ X ├─────────────■──\n",
       "          └───┘                </pre>"
      ],
      "text/plain": [
       "     ┌───┐     ┌─────────┐┌───┐\n",
       "q_0: ┤ H ├──■──┤ Rx(phi) ├┤ X ├\n",
       "     └───┘┌─┴─┐└─────────┘└─┬─┘\n",
       "q_1: ─────┤ X ├─────────────■──\n",
       "          └───┘                "
      ]
     },
     "execution_count": 10,
     "metadata": {},
     "output_type": "execute_result"
    }
   ],
   "source": [
    "ansatz.draw()"
   ]
  },
  {
   "cell_type": "code",
   "execution_count": null,
   "metadata": {},
   "outputs": [],
   "source": []
  }
 ],
 "metadata": {
  "interpreter": {
   "hash": "766e0d0516c4f25c2b1f01a59606ef04191a3cb324d6d185230911e47ef2666f"
  },
  "kernelspec": {
   "display_name": "Python 3.8.3 ('base')",
   "language": "python",
   "name": "python3"
  },
  "language_info": {
   "codemirror_mode": {
    "name": "ipython",
    "version": 3
   },
   "file_extension": ".py",
   "mimetype": "text/x-python",
   "name": "python",
   "nbconvert_exporter": "python",
   "pygments_lexer": "ipython3",
   "version": "3.8.3"
  },
  "orig_nbformat": 4
 },
 "nbformat": 4,
 "nbformat_minor": 2
}
